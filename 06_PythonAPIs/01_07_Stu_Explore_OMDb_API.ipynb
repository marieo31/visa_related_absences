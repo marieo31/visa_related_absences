{
 "cells": [
  {
   "cell_type": "code",
   "execution_count": 1,
   "metadata": {},
   "outputs": [],
   "source": [
    "import requests\n",
    "import json"
   ]
  },
  {
   "cell_type": "code",
   "execution_count": 2,
   "metadata": {},
   "outputs": [],
   "source": [
    "# New Dependency! Use this to pretty print the JSON\n",
    "# https://docs.python.org/3/library/pprint.html\n",
    "from pprint import pprint"
   ]
  },
  {
   "cell_type": "code",
   "execution_count": 3,
   "metadata": {},
   "outputs": [],
   "source": [
    "# Note that the ?t= is a query param for the t-itle of the\n",
    "# movie we want to search for.\n",
    "url = \"http://www.omdbapi.com/?t=\"\n",
    "api_key = \"&apikey=trilogy\""
   ]
  },
  {
   "cell_type": "code",
   "execution_count": 6,
   "metadata": {},
   "outputs": [],
   "source": [
    "# Performing a GET request similar to the one we executed\n",
    "# earlier\n",
    "data = requests.get(url + \"Aliens\" + api_key).json()"
   ]
  },
  {
   "cell_type": "code",
   "execution_count": 7,
   "metadata": {},
   "outputs": [
    {
     "name": "stdout",
     "output_type": "stream",
     "text": [
      "{\n",
      "    \"Actors\": \"Sigourney Weaver, Carrie Henn, Michael Biehn, Paul Reiser\",\n",
      "    \"Awards\": \"Won 2 Oscars. Another 18 wins & 22 nominations.\",\n",
      "    \"BoxOffice\": \"N/A\",\n",
      "    \"Country\": \"USA\",\n",
      "    \"DVD\": \"01 Jun 1999\",\n",
      "    \"Director\": \"James Cameron\",\n",
      "    \"Genre\": \"Action, Adventure, Sci-Fi\",\n",
      "    \"Language\": \"English\",\n",
      "    \"Metascore\": \"84\",\n",
      "    \"Plot\": \"Ellen Ripley is rescued by a deep salvage team after being in hypersleep for 57 years. The moon that the Nostromo visited has been colonized, but contact is lost. This time, colonial marines have impressive firepower, but will that be enough?\",\n",
      "    \"Poster\": \"https://m.media-amazon.com/images/M/MV5BYzVlMWViZGEtYjEyYy00YWZmLThmZGEtYmM4MDZlN2Q5MmRmXkEyXkFqcGdeQXVyMTQxNzMzNDI@._V1_SX300.jpg\",\n",
      "    \"Production\": \"20th Century Fox Film Corporat\",\n",
      "    \"Rated\": \"R\",\n",
      "    \"Ratings\": [\n",
      "        {\n",
      "            \"Source\": \"Internet Movie Database\",\n",
      "            \"Value\": \"8.4/10\"\n",
      "        },\n",
      "        {\n",
      "            \"Source\": \"Rotten Tomatoes\",\n",
      "            \"Value\": \"98%\"\n",
      "        },\n",
      "        {\n",
      "            \"Source\": \"Metacritic\",\n",
      "            \"Value\": \"84/100\"\n",
      "        }\n",
      "    ],\n",
      "    \"Released\": \"18 Jul 1986\",\n",
      "    \"Response\": \"True\",\n",
      "    \"Runtime\": \"137 min\",\n",
      "    \"Title\": \"Aliens\",\n",
      "    \"Type\": \"movie\",\n",
      "    \"Website\": \"N/A\",\n",
      "    \"Writer\": \"James Cameron (story by), David Giler (story by), Walter Hill (story by), Dan O'Bannon (based on characters created by), Ronald Shusett (based on characters created by), James Cameron (screenplay by)\",\n",
      "    \"Year\": \"1986\",\n",
      "    \"imdbID\": \"tt0090605\",\n",
      "    \"imdbRating\": \"8.4\",\n",
      "    \"imdbVotes\": \"576,622\"\n",
      "}\n"
     ]
    }
   ],
   "source": [
    "# Converting the response to JSON, and printing the result.\n",
    "print(json.dumps(data, indent=4, sort_keys=True))"
   ]
  },
  {
   "cell_type": "code",
   "execution_count": 11,
   "metadata": {},
   "outputs": [
    {
     "name": "stdout",
     "output_type": "stream",
     "text": [
      "18 Jul 1986\n",
      "Internet Movie Database\n",
      "8.4/10\n"
     ]
    }
   ],
   "source": [
    "# Print a few keys from the response JSON.\n",
    "print(data[\"Released\"])\n",
    "print(data['Ratings'][0]['Source'])\n",
    "print(data['Ratings'][0]['Value'])"
   ]
  },
  {
   "cell_type": "code",
   "execution_count": null,
   "metadata": {},
   "outputs": [],
   "source": []
  }
 ],
 "metadata": {
  "kernelspec": {
   "display_name": "Python 3",
   "language": "python",
   "name": "python3"
  },
  "language_info": {
   "codemirror_mode": {
    "name": "ipython",
    "version": 3
   },
   "file_extension": ".py",
   "mimetype": "text/x-python",
   "name": "python",
   "nbconvert_exporter": "python",
   "pygments_lexer": "ipython3",
   "version": "3.6.5"
  },
  "varInspector": {
   "cols": {
    "lenName": 16,
    "lenType": 16,
    "lenVar": 40
   },
   "kernels_config": {
    "python": {
     "delete_cmd_postfix": "",
     "delete_cmd_prefix": "del ",
     "library": "var_list.py",
     "varRefreshCmd": "print(var_dic_list())"
    },
    "r": {
     "delete_cmd_postfix": ") ",
     "delete_cmd_prefix": "rm(",
     "library": "var_list.r",
     "varRefreshCmd": "cat(var_dic_list()) "
    }
   },
   "types_to_exclude": [
    "module",
    "function",
    "builtin_function_or_method",
    "instance",
    "_Feature"
   ],
   "window_display": false
  }
 },
 "nbformat": 4,
 "nbformat_minor": 2
}
