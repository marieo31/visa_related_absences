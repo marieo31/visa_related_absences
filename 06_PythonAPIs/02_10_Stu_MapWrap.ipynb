{
 "cells": [
  {
   "cell_type": "code",
   "execution_count": 11,
   "metadata": {},
   "outputs": [],
   "source": [
    "# Dependencies\n",
    "import csv\n",
    "import matplotlib.pyplot as plt\n",
    "import openweathermapy as owm\n",
    "import pandas as pd\n",
    "import os\n",
    "\n",
    "# import api_key from config file\n",
    "from config_Bujumbura import api_key"
   ]
  },
  {
   "cell_type": "code",
   "execution_count": 24,
   "metadata": {},
   "outputs": [],
   "source": [
    "# Create a settings object with your API key and preferred units\n",
    "settings = {\"units\" : \"metric\",\n",
    "           \"appid\" : api_key}"
   ]
  },
  {
   "cell_type": "code",
   "execution_count": 43,
   "metadata": {},
   "outputs": [
    {
     "data": {
      "text/plain": [
       "[(2.35, 48.86, 11.71),\n",
       " (-0.13, 51.51, 11.9),\n",
       " (10.74, 59.91, 14),\n",
       " (116.39, 39.91, 23),\n",
       " (37.62, 55.75, 8),\n",
       " (131.89, 43.12, 18),\n",
       " (135.5, 34.7, 18.75),\n",
       " (-157.86, 21.3, 27.04),\n",
       " (-95.72, 44.94, 7.36),\n",
       " (44.01, 36.19, 35)]"
      ]
     },
     "execution_count": 43,
     "metadata": {},
     "output_type": "execute_result"
    }
   ],
   "source": [
    "# Read the list of cities from the csv file\n",
    "with open(os.path.join(\"Resources\", \"cities.csv\")) as csv_file:\n",
    "    cities = csv.reader(csv_file, delimiter=\" \" )\n",
    "    clist = []\n",
    "    clist = [city[0] for city in cities]\n",
    "    weather_data = [owm.get_current(city, **settings) for city in clist]\n",
    "#         clist.append(row[0])\n",
    "# Get the temperature, latitude, and longitude for each city in cities.csv\n",
    "extract = ['coord.lon', 'coord.lat', 'main.temp']\n",
    "data = [response(*extract) for response in weather_data]\n",
    "# lon = []\n",
    "# lat = []\n",
    "# temp = []\n",
    "# for city in clist:\n",
    "#     data = owm.get_current(city, **settings)\n",
    "#     lon.append(data(\"coord.lon\"))\n",
    "#     lat.append(data(\"coord.lat\"))\n",
    "#     temp.append(data(\"main.temp\"))\n",
    "# data"
   ]
  },
  {
   "cell_type": "code",
   "execution_count": 48,
   "metadata": {},
   "outputs": [],
   "source": [
    "# Create a Pandas DataFrame with the results\n",
    "# df = pd.DataFrame({\"Longitude\" : lon,\n",
    "#                   \"Latitude\" : lat,\n",
    "#                   \"Temperature\" : temp}, index=clist)\n",
    "df = pd.DataFrame(data, index=clist)"
   ]
  },
  {
   "cell_type": "code",
   "execution_count": 49,
   "metadata": {},
   "outputs": [
    {
     "data": {
      "text/html": [
       "<div>\n",
       "<style scoped>\n",
       "    .dataframe tbody tr th:only-of-type {\n",
       "        vertical-align: middle;\n",
       "    }\n",
       "\n",
       "    .dataframe tbody tr th {\n",
       "        vertical-align: top;\n",
       "    }\n",
       "\n",
       "    .dataframe thead th {\n",
       "        text-align: right;\n",
       "    }\n",
       "</style>\n",
       "<table border=\"1\" class=\"dataframe\">\n",
       "  <thead>\n",
       "    <tr style=\"text-align: right;\">\n",
       "      <th></th>\n",
       "      <th>0</th>\n",
       "      <th>1</th>\n",
       "      <th>2</th>\n",
       "    </tr>\n",
       "  </thead>\n",
       "  <tbody>\n",
       "    <tr>\n",
       "      <th>Paris</th>\n",
       "      <td>2.35</td>\n",
       "      <td>48.86</td>\n",
       "      <td>11.71</td>\n",
       "    </tr>\n",
       "    <tr>\n",
       "      <th>London</th>\n",
       "      <td>-0.13</td>\n",
       "      <td>51.51</td>\n",
       "      <td>11.90</td>\n",
       "    </tr>\n",
       "    <tr>\n",
       "      <th>Oslo</th>\n",
       "      <td>10.74</td>\n",
       "      <td>59.91</td>\n",
       "      <td>14.00</td>\n",
       "    </tr>\n",
       "    <tr>\n",
       "      <th>Beijing</th>\n",
       "      <td>116.39</td>\n",
       "      <td>39.91</td>\n",
       "      <td>23.00</td>\n",
       "    </tr>\n",
       "    <tr>\n",
       "      <th>Moscow</th>\n",
       "      <td>37.62</td>\n",
       "      <td>55.75</td>\n",
       "      <td>8.00</td>\n",
       "    </tr>\n",
       "    <tr>\n",
       "      <th>Vladivostok</th>\n",
       "      <td>131.89</td>\n",
       "      <td>43.12</td>\n",
       "      <td>18.00</td>\n",
       "    </tr>\n",
       "    <tr>\n",
       "      <th>Osaka</th>\n",
       "      <td>135.50</td>\n",
       "      <td>34.70</td>\n",
       "      <td>18.75</td>\n",
       "    </tr>\n",
       "    <tr>\n",
       "      <th>Honolulu</th>\n",
       "      <td>-157.86</td>\n",
       "      <td>21.30</td>\n",
       "      <td>27.04</td>\n",
       "    </tr>\n",
       "    <tr>\n",
       "      <th>Montevideo</th>\n",
       "      <td>-95.72</td>\n",
       "      <td>44.94</td>\n",
       "      <td>7.36</td>\n",
       "    </tr>\n",
       "    <tr>\n",
       "      <th>Erbil</th>\n",
       "      <td>44.01</td>\n",
       "      <td>36.19</td>\n",
       "      <td>35.00</td>\n",
       "    </tr>\n",
       "  </tbody>\n",
       "</table>\n",
       "</div>"
      ],
      "text/plain": [
       "                  0      1      2\n",
       "Paris          2.35  48.86  11.71\n",
       "London        -0.13  51.51  11.90\n",
       "Oslo          10.74  59.91  14.00\n",
       "Beijing      116.39  39.91  23.00\n",
       "Moscow        37.62  55.75   8.00\n",
       "Vladivostok  131.89  43.12  18.00\n",
       "Osaka        135.50  34.70  18.75\n",
       "Honolulu    -157.86  21.30  27.04\n",
       "Montevideo   -95.72  44.94   7.36\n",
       "Erbil         44.01  36.19  35.00"
      ]
     },
     "execution_count": 49,
     "metadata": {},
     "output_type": "execute_result"
    }
   ],
   "source": [
    "df"
   ]
  },
  {
   "cell_type": "code",
   "execution_count": null,
   "metadata": {},
   "outputs": [],
   "source": []
  }
 ],
 "metadata": {
  "kernelspec": {
   "display_name": "Python 3",
   "language": "python",
   "name": "python3"
  },
  "language_info": {
   "codemirror_mode": {
    "name": "ipython",
    "version": 3
   },
   "file_extension": ".py",
   "mimetype": "text/x-python",
   "name": "python",
   "nbconvert_exporter": "python",
   "pygments_lexer": "ipython3",
   "version": "3.6.5"
  },
  "varInspector": {
   "cols": {
    "lenName": 16,
    "lenType": 16,
    "lenVar": 40
   },
   "kernels_config": {
    "python": {
     "delete_cmd_postfix": "",
     "delete_cmd_prefix": "del ",
     "library": "var_list.py",
     "varRefreshCmd": "print(var_dic_list())"
    },
    "r": {
     "delete_cmd_postfix": ") ",
     "delete_cmd_prefix": "rm(",
     "library": "var_list.r",
     "varRefreshCmd": "cat(var_dic_list()) "
    }
   },
   "types_to_exclude": [
    "module",
    "function",
    "builtin_function_or_method",
    "instance",
    "_Feature"
   ],
   "window_display": false
  }
 },
 "nbformat": 4,
 "nbformat_minor": 2
}
