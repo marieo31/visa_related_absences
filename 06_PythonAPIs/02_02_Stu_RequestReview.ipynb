{
 "cells": [
  {
   "cell_type": "code",
   "execution_count": 2,
   "metadata": {},
   "outputs": [],
   "source": [
    "# Dependencies\n",
    "import json\n",
    "import requests \n",
    "from config_NYT import api_key"
   ]
  },
  {
   "cell_type": "code",
   "execution_count": 16,
   "metadata": {},
   "outputs": [
    {
     "name": "stdout",
     "output_type": "stream",
     "text": [
      "200\n"
     ]
    }
   ],
   "source": [
    "# Specify the URL\n",
    "url = \"http://nyt-mongo-scraper.herokuapp.com/api/headlines\"\n",
    "\n",
    "# Make request and store response\n",
    "resp = requests.get(url)\n",
    "\n",
    "# Print the status code\n",
    "print(resp.status_code)\n"
   ]
  },
  {
   "cell_type": "code",
   "execution_count": 17,
   "metadata": {},
   "outputs": [],
   "source": [
    "# JSON-ify response\n",
    "respj = resp.json()"
   ]
  },
  {
   "cell_type": "code",
   "execution_count": 20,
   "metadata": {
    "scrolled": false
   },
   "outputs": [
    {
     "name": "stdout",
     "output_type": "stream",
     "text": [
      "{\n",
      "    \"__v\": 0,\n",
      "    \"_id\": \"5ba88189a8fbcd0014bf8143\",\n",
      "    \"date\": \"2018-09-24T06:17:45.973Z\",\n",
      "    \"headline\": \"The College Recruit and the Downfall of a Hall of Fame Coach\",\n",
      "    \"saved\": false,\n",
      "    \"summary\": \"Should a high school star be prevented from playing college basketball because his father was accused of taking a bribe?\",\n",
      "    \"url\": \"https://www.nytimes.com/2018/09/18/magazine/college-basketball-recruiting-bribery-case-rick-pitino.html\"\n",
      "}\n",
      "The last response is: {\n",
      "    \"__v\": 0,\n",
      "    \"_id\": \"5ba88189a8fbcd0014bf813a\",\n",
      "    \"date\": \"2018-09-24T06:17:45.968Z\",\n",
      "    \"headline\": \"Sign Up: The Week in Good News\",\n",
      "    \"saved\": false,\n",
      "    \"summary\": \"Here are seven great things we wrote about this week.\",\n",
      "    \"url\": \"https://www.nytimes.com/2018/09/20/briefing/the-week-in-good-news-berlin-marathon-doctor-who.html\"\n",
      "}.\n"
     ]
    }
   ],
   "source": [
    "# Print first and last articles\n",
    "\n",
    "print(json.dumps(respj[0],sort_keys=True, indent=4))\n",
    "print(f\"The last response is: {json.dumps(respj[-1],sort_keys=True, indent=4)}.\")"
   ]
  },
  {
   "cell_type": "code",
   "execution_count": 19,
   "metadata": {},
   "outputs": [
    {
     "data": {
      "text/plain": [
       "10"
      ]
     },
     "execution_count": 19,
     "metadata": {},
     "output_type": "execute_result"
    }
   ],
   "source": [
    "#Print the number of responses received.\n",
    "len(respj)"
   ]
  },
  {
   "cell_type": "code",
   "execution_count": null,
   "metadata": {},
   "outputs": [],
   "source": []
  }
 ],
 "metadata": {
  "kernelspec": {
   "display_name": "Python 3",
   "language": "python",
   "name": "python3"
  },
  "language_info": {
   "codemirror_mode": {
    "name": "ipython",
    "version": 3
   },
   "file_extension": ".py",
   "mimetype": "text/x-python",
   "name": "python",
   "nbconvert_exporter": "python",
   "pygments_lexer": "ipython3",
   "version": "3.6.5"
  },
  "varInspector": {
   "cols": {
    "lenName": 16,
    "lenType": 16,
    "lenVar": 40
   },
   "kernels_config": {
    "python": {
     "delete_cmd_postfix": "",
     "delete_cmd_prefix": "del ",
     "library": "var_list.py",
     "varRefreshCmd": "print(var_dic_list())"
    },
    "r": {
     "delete_cmd_postfix": ") ",
     "delete_cmd_prefix": "rm(",
     "library": "var_list.r",
     "varRefreshCmd": "cat(var_dic_list()) "
    }
   },
   "types_to_exclude": [
    "module",
    "function",
    "builtin_function_or_method",
    "instance",
    "_Feature"
   ],
   "window_display": false
  }
 },
 "nbformat": 4,
 "nbformat_minor": 2
}
