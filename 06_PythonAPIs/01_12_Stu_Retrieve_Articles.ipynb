{
 "cells": [
  {
   "cell_type": "code",
   "execution_count": 22,
   "metadata": {},
   "outputs": [
    {
     "data": {
      "text/plain": [
       "'https://api.nytimes.com/svc/search/v2/articlesearch.json?api_key=70810276c8b1437cabff676b7affa7cc&q=obama&begin_date=20140101&end_date=20141231'"
      ]
     },
     "execution_count": 22,
     "metadata": {},
     "output_type": "execute_result"
    }
   ],
   "source": [
    "# Dependencies\n",
    "import requests\n",
    "from config import api_key\n",
    "from pprint import pprint\n",
    "import json\n",
    "\n",
    "url = \"https://api.nytimes.com/svc/search/v2/articlesearch.json?\"\n",
    "\n",
    "# Store a search term\n",
    "query = \"obama\"\n",
    "\n",
    "# Search for articles published between a begin and end date\n",
    "sdate = \"20140101\"\n",
    "edate = \"20141231\"\n",
    "\n",
    "# Build url\n",
    "query_url = url+\"api_key=\"+api_key+\"&q=\"+query+\"&begin_date=\"+sdate+\"&end_date=\"+edate\n",
    "# query_url = url+\"api_key=\"+api_key+\"&q=\"+query\n",
    "query_url\n"
   ]
  },
  {
   "cell_type": "code",
   "execution_count": 23,
   "metadata": {},
   "outputs": [
    {
     "name": "stdout",
     "output_type": "stream",
     "text": [
      ">>\n",
      "An advice columnist for teenage girls tips her hat to the first family.\n",
      ">>\n",
      "So much for that story line about the president being a job-killer.\n",
      ">>\n",
      "The president is acting like a man who&#8217;s been given the political equivalent of a testosterone boost.\n",
      ">>\n",
      "Readers respond to President Obama&#8217;s policy change.\n",
      ">>\n",
      "Republicans would erase the accomplishments and the man.\n",
      ">>\n",
      "We can talk about data on white-black bias until we are blue in the face. At some point, it simply comes down to what people believe and how they feel.\n",
      ">>\n",
      "Why has the Obama administration been behaving so strangely since the midterms?\n",
      ">>\n",
      "The president, with his wife, Michelle, thanked American troops for their service and went to a Marine base near their vacation home in Hawaii.\n",
      ">>\n",
      "At his end-of-year news conference, President Obama talked about his executive action on immigration and his hopes that Congress will work with him to pass a variety of bills.\n",
      ">>\n",
      "Readers are divided over the president&#8217;s decision to use executive orders to overhaul immigration policy.\n"
     ]
    }
   ],
   "source": [
    "# Retrieve articles\n",
    "articles = requests.get(query_url).json()\n",
    "articles\n",
    "article_list = [article for article in articles[\"response\"][\"docs\"]]\n",
    "\n",
    "for article in article_list:\n",
    "#     print(json.dumps(article, indent=4))\n",
    "    print(\">>\")\n",
    "    print(article['snippet'])\n",
    "#     break"
   ]
  },
  {
   "cell_type": "code",
   "execution_count": 24,
   "metadata": {},
   "outputs": [
    {
     "name": "stdout",
     "output_type": "stream",
     "text": [
      ">>\n",
      "The former president loosens Trump’s stranglehold on the news. \n",
      ">>\n",
      "New York lost in the bidding for the former president’s library, but now his alma mater and his foundation are creating a program for international fellows.\n",
      ">>\n",
      "A reader is deeply moved by the former president’s South Africa speech.\n",
      ">>\n",
      "In a new crime novel, the 44th president and his vice president team up to solve a suspicious death, and patch up their frayed friendship in the process.\n",
      ">>\n",
      "The former president, on Day Two of his challenge to Trump, heads to a central battleground in the Democratic fight to take back Congress.\n",
      ">>\n",
      "Barack Obama does not plan to take on President Trump directly, but an adviser said the former president would not shrink from confronting the divisive issues around his successor.\n",
      ">>\n",
      "“The World as It Is,” a memoir by the White House aide Ben Rhodes, recounts some of the toughest decisions Barack Obama made during his presidency.\n",
      ">>\n",
      "The former president offered a stinging indictment of his successor, sometimes by name, accusing him and his Republican supporters of practicing a “politics of fear and resentment.”\n",
      ">>\n",
      "This Barack Obama Is No Mr. Nice Guy. Kehinde Wiley’s portrait of the former president contradicts the impression he often made in office of being detached.\n",
      ">>\n",
      "The former president, who has largely avoided campaign politics, endorsed 81 Democrats in the midterms, including officials who served in his administration.\n",
      ">>\n",
      "Dan Pfeiffer, a senior adviser to President Obama, has written “Yes We (Still) Can,” a memoir of his years in the White House, with prescriptions for the future.\n",
      ">>\n",
      "Former President Barack Obama's stops on the mid-term campaign trail will run through Philadelphia.\n",
      ">>\n",
      "The former U.S. president was in the country to inaugurate a sports and training center founded by his half sister, Auma Obama.\n",
      ">>\n",
      "Nearly two years out of the White House, former President Barack Obama is facing another political test.\n",
      ">>\n",
      "Organizing for Action, the political group launched by Barack Obama, will deploy and train volunteers in more than two dozen Republican-held congressional districts.\n",
      ">>\n",
      "The Latest on former President Barack Obama speaking in Ohio (all times local):\n",
      ">>\n",
      "The Latest on former President Barack Obama (all times local):\n",
      ">>\n",
      "Education Secretary Betsy DeVos, in her most drastic move to deregulate for-profit colleges, announced she would end a rule to force them to prove the gainful employment of their graduates.\n",
      ">>\n",
      "Former President Obama muses: Was he wrong? Or was he merely wrong for being right?\n",
      ">>\n",
      "In his highest-profile speech since leaving office, the former president, speaking in South Africa, warned of leaders embracing the “politics of fear, resentment and retrenchment.”\n",
      ">>\n",
      "Framing the midterms as Election Day draws closer. \n",
      ">>\n",
      "Former President Barack Obama delivered a simple message Thursday headed into the fall midterm elections: Vote.\n",
      ">>\n",
      "Michelle Obama announced a 10-city U.S. stadium tour on Wednesday to support her upcoming memoir \"Becoming\" that will feature what organizers called \"intimate and honest conversations\" with audiences.\n",
      ">>\n",
      "The Latest on former President Barack Obama (all times local):\n",
      ">>\n",
      "Michelle Obama announced a 10-city U.S. stadium tour on Wednesday to support her upcoming memoir \"Becoming\" that will feature what organizers called \"intimate and honest conversations\" with audiences.\n",
      ">>\n",
      "The former president will return to the campaign trail, with plans to help Democratic candidates in Illinois and Pennsylvania as well.\n",
      ">>\n",
      "Former President Barack Obama issued a scorching critique of his successor Friday, blasting President Donald Trump's policies and his pattern of pressuring the Justice Department.\n",
      ">>\n",
      "Former President Barack Obama delivered a eulogy on behalf of Senator John McCain at a ceremony attended by many of Washington’s top current and former lawmakers.\n",
      ">>\n",
      "Mr. Obama has told associates that he does not intend to use the new platform to wage a public campaign against his successor in the Oval Office.\n",
      ">>\n",
      "The strange continuity in their foreign policy gambits and ambitions.\n"
     ]
    }
   ],
   "source": [
    "# BONUS: How would we get 30 results? \n",
    "# HINT: Look up the page query param\n",
    "for ii in range(3):\n",
    "    query_url = url+\"api_key=\"+api_key+\"&q=\"+query+\"&begin_date=\"+sdate+\"?end_date=\"+edate+\"&page=\"+str(ii)\n",
    "    articles = requests.get(query_url).json()\n",
    "    articles\n",
    "    article_list = [article for article in articles[\"response\"][\"docs\"]]\n",
    "\n",
    "    for article in article_list:\n",
    "    #     print(json.dumps(article, indent=4))\n",
    "        print(\">>\")\n",
    "        print(article['snippet'])    "
   ]
  },
  {
   "cell_type": "code",
   "execution_count": null,
   "metadata": {},
   "outputs": [],
   "source": []
  }
 ],
 "metadata": {
  "kernelspec": {
   "display_name": "Python 3",
   "language": "python",
   "name": "python3"
  },
  "language_info": {
   "codemirror_mode": {
    "name": "ipython",
    "version": 3
   },
   "file_extension": ".py",
   "mimetype": "text/x-python",
   "name": "python",
   "nbconvert_exporter": "python",
   "pygments_lexer": "ipython3",
   "version": "3.6.5"
  },
  "varInspector": {
   "cols": {
    "lenName": 16,
    "lenType": 16,
    "lenVar": 40
   },
   "kernels_config": {
    "python": {
     "delete_cmd_postfix": "",
     "delete_cmd_prefix": "del ",
     "library": "var_list.py",
     "varRefreshCmd": "print(var_dic_list())"
    },
    "r": {
     "delete_cmd_postfix": ") ",
     "delete_cmd_prefix": "rm(",
     "library": "var_list.r",
     "varRefreshCmd": "cat(var_dic_list()) "
    }
   },
   "types_to_exclude": [
    "module",
    "function",
    "builtin_function_or_method",
    "instance",
    "_Feature"
   ],
   "window_display": false
  }
 },
 "nbformat": 4,
 "nbformat_minor": 2
}
