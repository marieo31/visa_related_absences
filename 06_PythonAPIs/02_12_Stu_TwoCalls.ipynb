{
 "cells": [
  {
   "cell_type": "code",
   "execution_count": 1,
   "metadata": {},
   "outputs": [],
   "source": [
    "# Dependenciesltype_resp = requests.get(f\"{url}lendingTypes?format={format}\").json()\n",
    "import requests\n",
    "import json\n",
    "url = \"http://api.worldbank.org/v2/\"\n",
    "format = \"json\""
   ]
  },
  {
   "cell_type": "code",
   "execution_count": 2,
   "metadata": {},
   "outputs": [
    {
     "data": {
      "text/plain": [
       "['IBD', 'IDB', 'IDX', 'LNX']"
      ]
     },
     "execution_count": 2,
     "metadata": {},
     "output_type": "execute_result"
    }
   ],
   "source": [
    "# Get the list of lending types the world bank has\n",
    "ltype_resp = requests.get(f\"{url}lendingTypes?format={format}\").json()\n",
    "# print(json.dumps(ltype_resp[-1], indent=2))\n",
    "\n",
    "# countries_resp[1][0][\"id\"]\n",
    "lend_types = [resp['id'] for resp in ltype_resp[1]]\n",
    "lend_types"
   ]
  },
  {
   "cell_type": "code",
   "execution_count": 17,
   "metadata": {},
   "outputs": [
    {
     "data": {
      "text/plain": [
       "[69, 16, 59, 74]"
      ]
     },
     "execution_count": 17,
     "metadata": {},
     "output_type": "execute_result"
    }
   ],
   "source": [
    "# Next, determine how many countries fall into each lending type.\n",
    "# Hint: Look at the first element of the response array.\n",
    "nb_countries = []\n",
    "for ltype in lend_types:\n",
    "    resp = requests.get(f\"{url}countries?lendingType={ltype}&format={format}\").json()\n",
    "    nb_countries.append(resp[0]['total'])\n",
    "# print(json.dumps(resp, indent=2))\n",
    "# resp[0]['total']\n",
    "# http://api.worldbank.org/v2/countries?lendingType=IDX\n",
    "nb_countries"
   ]
  },
  {
   "cell_type": "code",
   "execution_count": 20,
   "metadata": {},
   "outputs": [
    {
     "name": "stdout",
     "output_type": "stream",
     "text": [
      "The nb of countries with lending type IBD is 69\n",
      "The nb of countries with lending type IDB is 16\n",
      "The nb of countries with lending type IDX is 59\n",
      "The nb of countries with lending type LNX is 74\n"
     ]
    }
   ],
   "source": [
    "# Print the number of countries of each lending type\n",
    "for ii in range(len(nb_countries)):\n",
    "    print(f'The nb of countries with lending type {lend_types[ii]} is {nb_countries[ii]}')"
   ]
  },
  {
   "cell_type": "code",
   "execution_count": null,
   "metadata": {},
   "outputs": [],
   "source": []
  }
 ],
 "metadata": {
  "kernelspec": {
   "display_name": "Python 3",
   "language": "python",
   "name": "python3"
  },
  "language_info": {
   "codemirror_mode": {
    "name": "ipython",
    "version": 3
   },
   "file_extension": ".py",
   "mimetype": "text/x-python",
   "name": "python",
   "nbconvert_exporter": "python",
   "pygments_lexer": "ipython3",
   "version": "3.6.5"
  },
  "varInspector": {
   "cols": {
    "lenName": 16,
    "lenType": 16,
    "lenVar": 40
   },
   "kernels_config": {
    "python": {
     "delete_cmd_postfix": "",
     "delete_cmd_prefix": "del ",
     "library": "var_list.py",
     "varRefreshCmd": "print(var_dic_list())"
    },
    "r": {
     "delete_cmd_postfix": ") ",
     "delete_cmd_prefix": "rm(",
     "library": "var_list.r",
     "varRefreshCmd": "cat(var_dic_list()) "
    }
   },
   "types_to_exclude": [
    "module",
    "function",
    "builtin_function_or_method",
    "instance",
    "_Feature"
   ],
   "window_display": false
  }
 },
 "nbformat": 4,
 "nbformat_minor": 2
}
