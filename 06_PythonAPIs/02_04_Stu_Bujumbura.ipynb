{
 "cells": [
  {
   "cell_type": "code",
   "execution_count": 1,
   "metadata": {},
   "outputs": [],
   "source": [
    "# Dependencies\n",
    "import requests\n",
    "import json\n",
    "from config_Bujumbura import api_key\n"
   ]
  },
  {
   "cell_type": "code",
   "execution_count": 5,
   "metadata": {},
   "outputs": [
    {
     "name": "stdout",
     "output_type": "stream",
     "text": [
      "{\n",
      "    \"coord\": {\n",
      "        \"lon\": 29.37,\n",
      "        \"lat\": -3.36\n",
      "    },\n",
      "    \"weather\": [\n",
      "        {\n",
      "            \"id\": 803,\n",
      "            \"main\": \"Clouds\",\n",
      "            \"description\": \"broken clouds\",\n",
      "            \"icon\": \"04d\"\n",
      "        }\n",
      "    ],\n",
      "    \"base\": \"stations\",\n",
      "    \"main\": {\n",
      "        \"temp\": 31,\n",
      "        \"pressure\": 1012,\n",
      "        \"humidity\": 33,\n",
      "        \"temp_min\": 31,\n",
      "        \"temp_max\": 31\n",
      "    },\n",
      "    \"visibility\": 9000,\n",
      "    \"wind\": {\n",
      "        \"speed\": 7.2,\n",
      "        \"deg\": 180\n",
      "    },\n",
      "    \"clouds\": {\n",
      "        \"all\": 68\n",
      "    },\n",
      "    \"dt\": 1537786800,\n",
      "    \"sys\": {\n",
      "        \"type\": 1,\n",
      "        \"id\": 6366,\n",
      "        \"message\": 0.0035,\n",
      "        \"country\": \"BI\",\n",
      "        \"sunrise\": 1537761061,\n",
      "        \"sunset\": 1537804672\n",
      "    },\n",
      "    \"id\": 425378,\n",
      "    \"name\": \"Bujumbura\",\n",
      "    \"cod\": 200\n",
      "}\n"
     ]
    }
   ],
   "source": [
    "# Build query URL and request your results in Celsius\n",
    "url = \"http://api.openweathermap.org/data/2.5/weather?\"\n",
    "city = \"Bujumbura\"\n",
    "units = \"metric\"\n",
    "query_url = url + \"appid=\" + api_key + \"&q=\" + city + \"&units=\" + units\n",
    "\n",
    "# http://api.openweathermap.org/data/2.5/forecast?id=524901&APPID={APIKEY}\n",
    "# Get weather data\n",
    "resp = requests.get(query_url)\n",
    "resp_json = resp.json()\n",
    "print(json.dumps(resp_json, indent=4))"
   ]
  },
  {
   "cell_type": "code",
   "execution_count": 7,
   "metadata": {},
   "outputs": [],
   "source": [
    "# Get temperature from JSON response\n",
    "temp = resp_json['main']['temp']"
   ]
  },
  {
   "cell_type": "code",
   "execution_count": 8,
   "metadata": {},
   "outputs": [
    {
     "name": "stdout",
     "output_type": "stream",
     "text": [
      "The temperature in Bujumbura is 31°C\n"
     ]
    }
   ],
   "source": [
    "# Report temperature\n",
    "print(f\"The temperature in Bujumbura is {temp}°C\")"
   ]
  },
  {
   "cell_type": "code",
   "execution_count": 12,
   "metadata": {},
   "outputs": [
    {
     "name": "stdout",
     "output_type": "stream",
     "text": [
      "The temperature in Bujumbura is 31°\n",
      "The temperature in Bujumbura is 87.8°\n"
     ]
    }
   ],
   "source": [
    "units = ['metric', 'imperial']\n",
    "\n",
    "for unt in units:\n",
    "    query_url = f\"{url}appid={api_key}&q={city}&units={unt}\"\n",
    "    resp = requests.get(query_url).json()\n",
    "    print(f\"The temperature in Bujumbura is {resp['main']['temp']}°\")\n",
    "    "
   ]
  },
  {
   "cell_type": "code",
   "execution_count": null,
   "metadata": {},
   "outputs": [],
   "source": []
  }
 ],
 "metadata": {
  "kernelspec": {
   "display_name": "Python 3",
   "language": "python",
   "name": "python3"
  },
  "language_info": {
   "codemirror_mode": {
    "name": "ipython",
    "version": 3
   },
   "file_extension": ".py",
   "mimetype": "text/x-python",
   "name": "python",
   "nbconvert_exporter": "python",
   "pygments_lexer": "ipython3",
   "version": "3.6.5"
  },
  "varInspector": {
   "cols": {
    "lenName": 16,
    "lenType": 16,
    "lenVar": 40
   },
   "kernels_config": {
    "python": {
     "delete_cmd_postfix": "",
     "delete_cmd_prefix": "del ",
     "library": "var_list.py",
     "varRefreshCmd": "print(var_dic_list())"
    },
    "r": {
     "delete_cmd_postfix": ") ",
     "delete_cmd_prefix": "rm(",
     "library": "var_list.r",
     "varRefreshCmd": "cat(var_dic_list()) "
    }
   },
   "types_to_exclude": [
    "module",
    "function",
    "builtin_function_or_method",
    "instance",
    "_Feature"
   ],
   "window_display": false
  }
 },
 "nbformat": 4,
 "nbformat_minor": 2
}
